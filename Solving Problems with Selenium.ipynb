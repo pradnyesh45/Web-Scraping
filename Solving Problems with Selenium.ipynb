{
 "cells": [
  {
   "cell_type": "code",
   "execution_count": 1,
   "metadata": {},
   "outputs": [],
   "source": [
    "from selenium import webdriver"
   ]
  },
  {
   "cell_type": "code",
   "execution_count": 2,
   "metadata": {},
   "outputs": [
    {
     "data": {
      "text/plain": [
       "<selenium.webdriver.chrome.webdriver.WebDriver (session=\"8d526f7244ae82b80649beaef42f2652\")>"
      ]
     },
     "execution_count": 2,
     "metadata": {},
     "output_type": "execute_result"
    }
   ],
   "source": [
    "driver = webdriver.Chrome(executable_path = '/home/pradnyesh/Downloads/chromedriver_linux64/chromedriver')\n",
    "driver"
   ]
  },
  {
   "cell_type": "markdown",
   "metadata": {},
   "source": [
    "### Use this link.\n",
    "### Click on DS → Graph. Find and print name of all the problems which are listed under section “Topological Sorting”."
   ]
  },
  {
   "cell_type": "code",
   "execution_count": 3,
   "metadata": {},
   "outputs": [],
   "source": [
    "driver.get('https://www.geeksforgeeks.org/')"
   ]
  },
  {
   "cell_type": "code",
   "execution_count": 4,
   "metadata": {},
   "outputs": [],
   "source": [
    "DS = driver.find_element_by_link_text('Data Structures')\n",
    "DS.click()"
   ]
  },
  {
   "cell_type": "code",
   "execution_count": 5,
   "metadata": {},
   "outputs": [],
   "source": [
    "Graph = driver.find_element_by_link_text('Graph')\n",
    "Graph.click()"
   ]
  },
  {
   "cell_type": "code",
   "execution_count": 6,
   "metadata": {},
   "outputs": [
    {
     "data": {
      "text/plain": [
       "[<selenium.webdriver.remote.webelement.WebElement (session=\"3aa69d39c1dc8168266496cd45bd43d3\", element=\"7d425403-cc31-4a43-86c4-8182bdd46c7b\")>,\n",
       " <selenium.webdriver.remote.webelement.WebElement (session=\"3aa69d39c1dc8168266496cd45bd43d3\", element=\"80c39418-2492-4958-bfb8-e90608ae0115\")>,\n",
       " <selenium.webdriver.remote.webelement.WebElement (session=\"3aa69d39c1dc8168266496cd45bd43d3\", element=\"f318bbbb-33f8-4161-b66a-1b821c2ab38c\")>,\n",
       " <selenium.webdriver.remote.webelement.WebElement (session=\"3aa69d39c1dc8168266496cd45bd43d3\", element=\"bd5481cc-1e07-4dcf-afed-87c92c528e9a\")>,\n",
       " <selenium.webdriver.remote.webelement.WebElement (session=\"3aa69d39c1dc8168266496cd45bd43d3\", element=\"f115f348-28d4-4735-aa9b-6e8f94a6d221\")>,\n",
       " <selenium.webdriver.remote.webelement.WebElement (session=\"3aa69d39c1dc8168266496cd45bd43d3\", element=\"ca2840ca-93cf-4c29-8e79-382d575915da\")>,\n",
       " <selenium.webdriver.remote.webelement.WebElement (session=\"3aa69d39c1dc8168266496cd45bd43d3\", element=\"3ad01ca8-7d73-4a17-abfc-feb5704b7498\")>,\n",
       " <selenium.webdriver.remote.webelement.WebElement (session=\"3aa69d39c1dc8168266496cd45bd43d3\", element=\"4c542c12-3c89-4aa9-b5be-d3334a260b2f\")>,\n",
       " <selenium.webdriver.remote.webelement.WebElement (session=\"3aa69d39c1dc8168266496cd45bd43d3\", element=\"65c3ee9a-bcba-49ab-92bd-4b6b7a968693\")>]"
      ]
     },
     "execution_count": 6,
     "metadata": {},
     "output_type": "execute_result"
    }
   ],
   "source": [
    "topologicalSorting = driver.find_elements_by_xpath('//div[@class = \"topologicalSorting\"]//li/a')\n",
    "topologicalSorting"
   ]
  },
  {
   "cell_type": "code",
   "execution_count": 11,
   "metadata": {},
   "outputs": [
    {
     "name": "stdout",
     "output_type": "stream",
     "text": [
      "Topological Sorting\n",
      "All topological sorts of a Directed Acyclic Graph\n",
      "Kahn’s Algorithm for Topological Sorting\n",
      "Maximum edges that can be added to DAG so that is remains DAG\n",
      "Longest path between any pair of vertices\n",
      "Longest Path in a Directed Acyclic Graph\n",
      "Longest Path in a Directed Acyclic Graph | Set 2\n",
      "Topological Sort of a graph using departure time of vertex\n",
      "Given a sorted dictionary of an alien language, find order of characters\n"
     ]
    }
   ],
   "source": [
    "for i in topologicalSorting:\n",
    "    print(i.get_attribute('innerHTML'))"
   ]
  },
  {
   "cell_type": "markdown",
   "metadata": {},
   "source": [
    "### Open Gmail,Enter your login id and password and login to your account."
   ]
  },
  {
   "cell_type": "code",
   "execution_count": 3,
   "metadata": {},
   "outputs": [],
   "source": [
    "driver.get('https://mail.google.com/mail/u/0/#inbox')"
   ]
  },
  {
   "cell_type": "code",
   "execution_count": 5,
   "metadata": {},
   "outputs": [
    {
     "data": {
      "text/plain": [
       "<selenium.webdriver.remote.webelement.WebElement (session=\"8d526f7244ae82b80649beaef42f2652\", element=\"ba06beda-9c28-4895-ad41-1ff5e6602a11\")>"
      ]
     },
     "execution_count": 5,
     "metadata": {},
     "output_type": "execute_result"
    }
   ],
   "source": [
    "identifierId = driver.find_element_by_id('identifierId')\n",
    "identifierId"
   ]
  },
  {
   "cell_type": "code",
   "execution_count": 6,
   "metadata": {},
   "outputs": [],
   "source": [
    "identifierId.send_keys('SAMPLE_EMAIL')"
   ]
  },
  {
   "cell_type": "code",
   "execution_count": 7,
   "metadata": {},
   "outputs": [
    {
     "data": {
      "text/plain": [
       "<selenium.webdriver.remote.webelement.WebElement (session=\"8d526f7244ae82b80649beaef42f2652\", element=\"83ca02c7-f429-41b4-b1b7-2ab023daef51\")>"
      ]
     },
     "execution_count": 7,
     "metadata": {},
     "output_type": "execute_result"
    }
   ],
   "source": [
    "Next = driver.find_element_by_class_name('VfPpkd-RLmnJb')\n",
    "Next"
   ]
  },
  {
   "cell_type": "code",
   "execution_count": 8,
   "metadata": {},
   "outputs": [],
   "source": [
    "Next.click()"
   ]
  },
  {
   "cell_type": "markdown",
   "metadata": {},
   "source": [
    "Similarly do for password and then login"
   ]
  },
  {
   "cell_type": "markdown",
   "metadata": {},
   "source": [
    "### From this website :\n",
    "### Find all the plans of Airtel in Delhi NCR(Find Price)"
   ]
  },
  {
   "cell_type": "markdown",
   "metadata": {},
   "source": [
    "Use driver.find_element_by_xpath() and use the attribute \"alt\" to locate airtel. \n",
    "click on airtel. \n",
    "Then use driver.find_elements_by_class_name() to get a list of airtel plan names.\n",
    "Use for loop for traversing the list.\n",
    "Now for every i in list, click on the list item and use driver.find_elements_by_class_name() to find the list of prices.\n",
    "Now iterate through the list and print the string which will have the price of the plan."
   ]
  },
  {
   "cell_type": "markdown",
   "metadata": {},
   "source": [
    "### From this website :\n",
    "### Search iphone in the search bar and give the prices of first 4 results"
   ]
  },
  {
   "cell_type": "markdown",
   "metadata": {},
   "source": [
    "Open the website using driver.get()\n",
    "Find element using xpath() with input tag of attribute type search.\n",
    "use .send_keys() to type 'iphone'\n",
    "find elment by class name icon search and click on it\n",
    "find elments using class name _1kMS and print the string "
   ]
  },
  {
   "cell_type": "markdown",
   "metadata": {},
   "source": [
    "### From this website :\n",
    "### Find list of all trains from Delhi to Amritsar for tomorrow"
   ]
  },
  {
   "cell_type": "code",
   "execution_count": null,
   "metadata": {},
   "outputs": [],
   "source": []
  }
 ],
 "metadata": {
  "kernelspec": {
   "display_name": "Python 3",
   "language": "python",
   "name": "python3"
  },
  "language_info": {
   "codemirror_mode": {
    "name": "ipython",
    "version": 3
   },
   "file_extension": ".py",
   "mimetype": "text/x-python",
   "name": "python",
   "nbconvert_exporter": "python",
   "pygments_lexer": "ipython3",
   "version": "3.8.5"
  }
 },
 "nbformat": 4,
 "nbformat_minor": 4
}
